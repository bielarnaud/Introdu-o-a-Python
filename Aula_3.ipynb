{
 "cells": [
  {
   "attachments": {},
   "cell_type": "markdown",
   "metadata": {},
   "source": [
    "## Tuplas e Dicionários"
   ]
  },
  {
   "attachments": {},
   "cell_type": "markdown",
   "metadata": {},
   "source": [
    "1 - Ler uma tabela com Cursos, onde:\n",
    "\n",
    "    - Cada curso é formado por um código (inteiro positivo), um nome (string), e o centro a que pertence (inteiro positivo).\n",
    "    - A leitura da tabela de cursos para com o código de curso zero\n",
    "    - Depois o usuário fornecerá uma lista de códigos de centro para que o programa imprima o código e nome de todos os cursos associados a cada centro digitado\n",
    "    - Se o código do centro não existir na tabela, mostrar a mensagem \"Nenhum curso encontrado\" e continuar\n",
    "    - O programa para com a digitação de um código de centro inválido (negativo ou zero)"
   ]
  },
  {
   "cell_type": "code",
   "execution_count": null,
   "metadata": {},
   "outputs": [],
   "source": [
    "#Criando dicionário dos centros\n",
    "centros = {}\n",
    "#Lendo os códigos e nomes e add no dicionário\n",
    "cod_curso = int(input('Digite o código do curso: '))\n",
    "while cod_curso < 0 :\n",
    "    print('Código inválido.')\n",
    "    cod_curso = int(input('Digite o código do curso(0 para finalizar): '))\n",
    "\n",
    "while cod_curso != 0:\n",
    "    #lendo as informações do curso\n",
    "    nome = input('Digite o nome do curso: ')\n",
    "    cod_centro = int(input('Digite o código do centro: '))\n",
    "    while cod_centro < 0:\n",
    "        print('Código inválido')\n",
    "        cod_centro = int(input('Digite o código do centro: '))\n",
    "    \n",
    "    #add códigos os dicionário\n",
    "    if cod_centro not in centros.keys():\n",
    "        centros[cod_centro] = [[cod_curso, nome]]\n",
    "    else:\n",
    "        centros[cod_centro].append([cod_curso, nome])\n",
    "\n",
    "    #Novo curso\n",
    "    cod_curso = int(input('Digite o código do curso: '))\n",
    "    while cod_curso < 0 :\n",
    "        print('Código inválido.')\n",
    "        cod_curso = int(input('Digite o código do curso(0 para finalizar): '))\n",
    "\n",
    "#Perguntando código do centro ao usuário\n",
    "cod_centro = int(input('Digite o código de um centro: '))\n",
    "while cod_centro > 0:\n",
    "    if cod_centro in centros.keys():\n",
    "        print(f'Os cursos do centro {cod_centro} são: ')\n",
    "        print(centros[cod_centro])\n",
    "    else:\n",
    "        print('Nenhum curso encontrado')\n",
    "    cod_centro = int(input('Digite o código de um centro: '))\n",
    "\n"
   ]
  },
  {
   "cell_type": "code",
   "execution_count": null,
   "metadata": {},
   "outputs": [],
   "source": [
    "cursos = []\n",
    "\n",
    "# Ler a tabela de cursos\n",
    "codigo_curso = int(input(\"Insira o código do curso (0 para terminar): \"))\n",
    "while codigo_curso != 0:\n",
    "    nome_curso = input(\"Insira o nome do curso: \")\n",
    "    codigo_centro = int(input(\"Insira o código do centro: \"))\n",
    "    cursos.append((codigo_curso, nome_curso, codigo_centro))\n",
    "    codigo_curso = int(input(\"Insira o código do curso (0 para terminar): \"))\n",
    "\n",
    "# Perguntar o código de centro ao usuário\n",
    "codigo_centro = int(input(\"Insira o código do centro (0 ou negativo para terminar): \"))\n",
    "while codigo_centro > 0:\n",
    "    encontrado = False\n",
    "    for curso in cursos:\n",
    "        if curso[2] == codigo_centro:\n",
    "            print(f\"Código do curso: {curso[0]}, Nome do curso: {curso[1]}\")\n",
    "            encontrado = True\n",
    "    if not encontrado:\n",
    "        print(\"Nenhum curso encontrado\")\n",
    "    codigo_centro = int(input(\"Insira o código do centro (0 ou negativo para terminar): \"))\n"
   ]
  },
  {
   "attachments": {},
   "cell_type": "markdown",
   "metadata": {},
   "source": [
    "2 - Ler uma tabela de pessoas onde:\n",
    "\n",
    "    - Cada pessoa tem um código(inteiro), um nome(string) e um salário(float).\n",
    "    - A leitura da tabela para com um código que não seja positivo.\n",
    "    - Depois o usuário informará um valor máximo de salário. Caso o valor máximo não seja positivo, o programa deve informar o erro ao usuário e pedir os dados novamente.\n",
    "    - O programa deve imprimir os dados das pessoas cujos salários sejam menores ou iguais ao valor máximo informado, seguidos pelo número de pessoas correspondentes, e pela média dos salários destas pessoas"
   ]
  },
  {
   "cell_type": "code",
   "execution_count": null,
   "metadata": {},
   "outputs": [],
   "source": [
    "pessoas = []\n",
    "\n",
    "# Ler a tabela de pessoas\n",
    "codigo_pessoa = int(input(\"Insira o código da pessoa (não-positivo para terminar): \"))\n",
    "while codigo_pessoa > 0:\n",
    "    nome_pessoa = input(\"Insira o nome da pessoa: \")\n",
    "    salario = float(input(\"Insira o salário: \"))\n",
    "    pessoas.append((codigo_pessoa, nome_pessoa, salario))\n",
    "    codigo_pessoa = int(input(\"Insira o código da pessoa (não-positivo para terminar): \"))\n",
    "\n",
    "# Perguntar o valor máximo de salário ao usuário\n",
    "while True:\n",
    "    valor_maximo = float(input(\"Insira o valor máximo de salário: \"))\n",
    "    if valor_maximo > 0:\n",
    "        break\n",
    "    print(\"Valor inválido, insira novamente\")\n",
    "\n",
    "# Imprimir as pessoas cujos salários sejam menores ou iguais ao valor máximo informado\n",
    "contador = 0\n",
    "soma_salarios = 0\n",
    "for pessoa in pessoas:\n",
    "    if pessoa[2] <= valor_maximo:\n",
    "        contador += 1\n",
    "        soma_salarios += pessoa[2]\n",
    "        print(f\"Código da pessoa: {pessoa[0]}, Nome da pessoa: {pessoa[1]}, Salário: {pessoa[2]}\")\n",
    "\n",
    "# Imprimir o número de pessoas e a média dos salários\n",
    "print(f\"Número de pessoas: {contador}\")\n",
    "print(f\"Média dos salários: {soma_salarios / contador}\")"
   ]
  },
  {
   "cell_type": "code",
   "execution_count": 18,
   "metadata": {},
   "outputs": [
    {
     "ename": "IndexError",
     "evalue": "list index out of range",
     "output_type": "error",
     "traceback": [
      "\u001b[1;31m---------------------------------------------------------------------------\u001b[0m",
      "\u001b[1;31mIndexError\u001b[0m                                Traceback (most recent call last)",
      "Cell \u001b[1;32mIn[18], line 23\u001b[0m\n\u001b[0;32m     21\u001b[0m \u001b[39m#Printando as pessoas com salário menor que o máximo\u001b[39;00m\n\u001b[0;32m     22\u001b[0m \u001b[39mfor\u001b[39;00m pessoa \u001b[39min\u001b[39;00m pessoas:\n\u001b[1;32m---> 23\u001b[0m     \u001b[39mprint\u001b[39m(\u001b[39mf\u001b[39m\u001b[39m'\u001b[39m\u001b[39m{\u001b[39;00mpessoas[pessoa][\u001b[39m0\u001b[39m]\u001b[39m}\u001b[39;00m\u001b[39m - \u001b[39m\u001b[39m{\u001b[39;00mpessoas[pessoa][\u001b[39m1\u001b[39;49m]\u001b[39m}\u001b[39;00m\u001b[39m'\u001b[39m)\n\u001b[0;32m     24\u001b[0m     \u001b[39m# if pessoa[1] <= max_sal:\u001b[39;00m\n\u001b[0;32m     25\u001b[0m     \u001b[39m#     print(pessoas)\u001b[39;00m\n",
      "\u001b[1;31mIndexError\u001b[0m: list index out of range"
     ]
    }
   ],
   "source": [
    "#Criando o dicionário das pessoas\n",
    "pessoas = {}\n",
    "#Lendo as informações das pessoas\n",
    "cod = int(input('Digite o código da pessoa: '))\n",
    "while cod > 0:\n",
    "    nome = input('Digite o nome da pessoa: ')\n",
    "    salario = float(input('Digite o salário da pessoa: '))\n",
    "\n",
    "    #add códigos os dicionário\n",
    "    if cod not in pessoas.keys():\n",
    "        pessoas[cod] = [[nome, salario]]\n",
    "    else:\n",
    "        pessoas[cod].append([nome, salario])\n",
    "    cod = int(input('Digite o código da pessoa: '))\n",
    "\n",
    "#informando o valor máximo de salário\n",
    "max_sal = float(input('Digite um valor máximo de salário: '))\n",
    "while max_sal < 0:\n",
    "    print('Erro - Salário negativo ou 0')\n",
    "    max_sal = float(input('Digite um valor máximo de salário: '))\n",
    "#Printando as pessoas com salário menor que o máximo\n",
    "for pessoa in pessoas:\n",
    "    if pessoas[pessoa] <= max_sal:\n",
    "        print(f'{pessoas[pessoa][0]} - {pessoas[pessoa][1]}')\n",
    "    #     print(pessoas)\n",
    "\n",
    "    "
   ]
  },
  {
   "attachments": {},
   "cell_type": "markdown",
   "metadata": {},
   "source": [
    "3 - ler uma tabela de alunos onde: \n",
    "\n",
    "    - Cada aluno tem um cpf(tipo Long), um nome (string) e uma idade(inteiro)\n",
    "    - A leitura da tabela para com um cpf que não seja positivo\n",
    "    - Sabe-se que o usuário digitará no máximo 200 alunos\n",
    "    - Depois o usuário informará um inteiro positivo N, seguido por um série de N intervalos de idade(idade mínima e máxima)\n",
    "    - O programa deve imprimir, para cada intervalo digitado pelo usuário, os dados dos alunos que se enquadram no intervalo, seguidos pelo número de alunos no intervalo\n",
    "    - Caso a idade mínima de algum intervalo não seja menor que a idade máxima, o programa deve imprimir uma mensagem de erro e continuar"
   ]
  },
  {
   "cell_type": "code",
   "execution_count": null,
   "metadata": {},
   "outputs": [],
   "source": [
    "table = []\n",
    "\n",
    "# Ler a tabela de alunos\n",
    "while True:\n",
    "    cpf = int(input(\"Digite o CPF do aluno: \"))\n",
    "    if cpf <= 0:\n",
    "        break\n",
    "    nome = input(\"Digite o nome do aluno: \")\n",
    "    idade = int(input(\"Digite a idade do aluno: \"))\n",
    "    table.append((cpf, nome, idade))\n",
    "\n",
    "# Ler os intervalos de idade\n",
    "while True:\n",
    "    N = int(input(\"Digite a quantidade de intervalos de idade: \"))\n",
    "    if N <= 0:\n",
    "        break\n",
    "    for i in range(N):\n",
    "        idade_min = int(input(\"Digite a idade mínima: \"))\n",
    "        idade_max = int(input(\"Digite a idade máxima: \"))\n",
    "        if idade_min >= idade_max:\n",
    "            print(\"Erro: a idade mínima deve ser menor que a idade máxima.\")\n",
    "            continue\n",
    "        count = 0\n",
    "        salario_total = 0\n",
    "        for cpf, nome, idade in table:\n",
    "            if idade >= idade_min and idade <= idade_max:\n",
    "                count += 1\n",
    "                salario_total += idade\n",
    "                print(cpf, nome, idade)\n",
    "        if count == 0:\n",
    "            print(\"Nenhum aluno encontrado.\")\n",
    "        else:\n",
    "            print(\"Número de alunos no intervalo:\", count)\n",
    "            print(\"Média das idades:\", salario_total / count)"
   ]
  }
 ],
 "metadata": {
  "kernelspec": {
   "display_name": "Python 3",
   "language": "python",
   "name": "python3"
  },
  "language_info": {
   "codemirror_mode": {
    "name": "ipython",
    "version": 3
   },
   "file_extension": ".py",
   "mimetype": "text/x-python",
   "name": "python",
   "nbconvert_exporter": "python",
   "pygments_lexer": "ipython3",
   "version": "3.11.1"
  },
  "orig_nbformat": 4,
  "vscode": {
   "interpreter": {
    "hash": "eba10f099525e90365edbf4a7f32994c9b811cbe83fa4a775622dd6e5947500a"
   }
  }
 },
 "nbformat": 4,
 "nbformat_minor": 2
}
