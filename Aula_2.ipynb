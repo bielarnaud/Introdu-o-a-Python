{
 "cells": [
  {
   "attachments": {},
   "cell_type": "markdown",
   "metadata": {},
   "source": [
    "## Strings e Listas\n",
    "    Prof. Roberto Souto"
   ]
  },
  {
   "attachments": {},
   "cell_type": "markdown",
   "metadata": {},
   "source": [
    "1- Ler o nome do usuário e imprimi-lo na vertical, ou seja, uma letra a baixo da outra."
   ]
  },
  {
   "cell_type": "code",
   "execution_count": 37,
   "metadata": {},
   "outputs": [
    {
     "name": "stdout",
     "output_type": "stream",
     "text": [
      "G\n",
      "a\n",
      "b\n",
      "r\n",
      "i\n",
      "e\n",
      "l\n"
     ]
    }
   ],
   "source": [
    "#inputs\n",
    "nome = input(\"Digite seu nome: \")\n",
    "\n",
    "#programa\n",
    "for letra in nome:\n",
    "    print(letra)"
   ]
  },
  {
   "attachments": {},
   "cell_type": "markdown",
   "metadata": {},
   "source": [
    "Ler o nome do usuário e imprimi-lo em formato de escala, ou seja, só a primeira letra na primeira linha, as duas primeiras letras na segunda linha e assim por diantes"
   ]
  },
  {
   "cell_type": "code",
   "execution_count": 38,
   "metadata": {},
   "outputs": [
    {
     "name": "stdout",
     "output_type": "stream",
     "text": [
      "G\n",
      "Ga\n",
      "Gab\n",
      "Gabr\n",
      "Gabri\n",
      "Gabrie\n",
      "Gabriel\n",
      "Gabriel\n"
     ]
    }
   ],
   "source": [
    "#inputs\n",
    "nome = input('Digite seu nome: ')\n",
    "\n",
    "#programa\n",
    "cont = 0\n",
    "while cont <= len(nome):\n",
    "    cont += 1\n",
    "    print(nome[:cont])"
   ]
  },
  {
   "cell_type": "code",
   "execution_count": 40,
   "metadata": {},
   "outputs": [
    {
     "name": "stdout",
     "output_type": "stream",
     "text": [
      "G\n",
      "Ga\n",
      "Gab\n",
      "Gabr\n",
      "Gabri\n",
      "Gabrie\n",
      "Gabriel\n"
     ]
    }
   ],
   "source": [
    "#inputs\n",
    "nome = input(\"Digite o seu nome: \")\n",
    "#programa\n",
    "for i in range(len(nome)):\n",
    "  print(nome[:i+1])"
   ]
  },
  {
   "attachments": {},
   "cell_type": "markdown",
   "metadata": {},
   "source": [
    "Ler 2 strings e dizer quantas vezes o primeiro aparece no segundo"
   ]
  },
  {
   "cell_type": "code",
   "execution_count": 54,
   "metadata": {},
   "outputs": [
    {
     "name": "stdout",
     "output_type": "stream",
     "text": [
      "A string ana aparece 2 vezes na string banana\n"
     ]
    }
   ],
   "source": [
    "#inputs\n",
    "str1 = input('Digite uma string: ')\n",
    "str2 = input('Digite outra strings: ')\n",
    "#Programa\n",
    "cont = 0\n",
    "for i in range(len(str1)-len(str2)+1): \n",
    "    #tem que usar esse range pois se usar o range(str1) no fim vai fazer uma busca por uma substring com len menor que str2\n",
    "    if str1[i:(i+len(str2))] == str2: #caso seja igual soma 1 ao contador\n",
    "        cont += 1 \n",
    "print(f'A string {str2} aparece {cont} vezes na string {str1}')"
   ]
  },
  {
   "cell_type": "code",
   "execution_count": 53,
   "metadata": {},
   "outputs": [
    {
     "name": "stdout",
     "output_type": "stream",
     "text": [
      "2\n"
     ]
    }
   ],
   "source": [
    "#criando um algoritmo mais eficiente para procurar a partir do primeiro encontrado\n",
    "#caso não tenha ele não percorre todo o texto\n",
    "\n",
    "proc = input('Proc: ')\n",
    "texto = input('Texto: ')\n",
    "\n",
    "cont = 0 \n",
    "#encontrando a posição do primeiro\n",
    "pos = texto.find(proc)\n",
    "\n",
    "while pos != -1:\n",
    "    cont += 1 \n",
    "    pos = texto.find(proc, pos + 1)\n",
    "\n",
    "print(cont)"
   ]
  },
  {
   "attachments": {},
   "cell_type": "markdown",
   "metadata": {},
   "source": [
    "4 - Ler o nome completo do usuário e imprimi-lo com o primeiro e ultimo nome escritos todos em maiúsculas"
   ]
  },
  {
   "cell_type": "code",
   "execution_count": 43,
   "metadata": {},
   "outputs": [
    {
     "name": "stdout",
     "output_type": "stream",
     "text": [
      "GABRIEL FRAGOSO\n"
     ]
    }
   ],
   "source": [
    "#inputs\n",
    "nome = input('Digite seu nome completo: ')\n",
    "nome = nome.split(' ')\n",
    "#programa\n",
    "print(nome[0].upper(), nome[-1].upper())"
   ]
  },
  {
   "attachments": {},
   "cell_type": "markdown",
   "metadata": {},
   "source": [
    "5 - Ler 2 vetores de tamanho N, com N informado pelo usuário antes, somar os 2 vetores, imprimir os 2 vetores e depois o vetor resultado."
   ]
  },
  {
   "cell_type": "code",
   "execution_count": 47,
   "metadata": {},
   "outputs": [
    {
     "name": "stdout",
     "output_type": "stream",
     "text": [
      "Digite os valores do vetor 0: \n",
      "Digite os valores do vetor 1: \n",
      "A soma do vetor [1, 2, 3] com o vetor [4, 5, 6] é [5, 7, 9]\n"
     ]
    }
   ],
   "source": [
    "#Recebendo o input \n",
    "n = int(input('Digite o tamanho dos vetores: '))\n",
    "while n < 1:\n",
    "    n = int(input('Digite um tamanho válido: '))\n",
    "#criando uma lista para armazenar os vetores\n",
    "vetores = []\n",
    "#lendo os vetores\n",
    "for i in range(2):\n",
    "    print(f'Digite os valores do vetor {i}: ')\n",
    "    vetor = []\n",
    "    for j in range(n):\n",
    "        x = int(input())\n",
    "        vetor.append(x)\n",
    "    vetores.append(vetor)\n",
    "#Calculando o vetor soma\n",
    "vetor_resul = []\n",
    "for i in range(n):\n",
    "    soma = vetores[0][i] + vetores[1][i]\n",
    "    vetor_resul.append(soma)\n",
    "#Printando\n",
    "print(f'A soma do vetor {vetores[0]} com o vetor {vetores[1]} é {vetor_resul}')"
   ]
  },
  {
   "attachments": {},
   "cell_type": "markdown",
   "metadata": {},
   "source": [
    "fazendo a questão utilizando variáveis diferentes para cada vetor"
   ]
  },
  {
   "cell_type": "code",
   "execution_count": 9,
   "metadata": {},
   "outputs": [
    {
     "name": "stdout",
     "output_type": "stream",
     "text": [
      "A soma do vetor [2] com o vetor [3] é [5]\n"
     ]
    }
   ],
   "source": [
    "#input do tamanho dos vetores\n",
    "n = int(input('Digite o tamanho dos vetores: '))\n",
    "while n < 1:\n",
    "    n = int(input('Digite um tamanho válido: '))\n",
    "#definindo variáveis (pode definir ja com números inteiros e do tamanho correto para otimizar as operações)\n",
    "v1 = [0]*n\n",
    "v2 = [0]*n\n",
    "vr = [0]*n\n",
    "#lendo os valores dos vetores\n",
    "for i in range(n):\n",
    "    v1[i] = int(input('V1 elemento'+ str(i)+': '))\n",
    "for i in range(n):\n",
    "    v2[i] = int(input('Vr elemento'+ str(i)+': '))\n",
    "    #Soma dos vetores (poderia ter usado outro for mas assim fica mais otimizado)\n",
    "    vr[i] = v1[i] + v2[i] \n",
    "\n",
    "#Printando\n",
    "print(f'A soma do vetor {v1} com o vetor {v2} é {vr}')\n"
   ]
  },
  {
   "attachments": {},
   "cell_type": "markdown",
   "metadata": {},
   "source": [
    "6 - Ler uma lista de N números (N informado pelo usuário), e depois criar duas outras listas com os números pares e ímpares saparados. No final imprimir as 3 listas"
   ]
  },
  {
   "cell_type": "code",
   "execution_count": 49,
   "metadata": {},
   "outputs": [
    {
     "name": "stdout",
     "output_type": "stream",
     "text": [
      "A lista de números foi: [1, 2, 3, 4, 5, 6] \n",
      "Os números pares são: [2, 4, 6] \n",
      "Os números impares são: [1, 3, 5]\n"
     ]
    }
   ],
   "source": [
    "#inputs \n",
    "n = int(input('Digite o valor de N: '))\n",
    "#lendo e criando a lista dos números \n",
    "valores = []\n",
    "for i in range(n):\n",
    "    x = int(input('Digite um número: '))\n",
    "    valores.append(x)\n",
    "\n",
    "#Criando as listas de impares e pares\n",
    "pares = []\n",
    "impares = []\n",
    "for x in valores:\n",
    "    if x % 2 == 0:\n",
    "        pares.append(x)\n",
    "    else:\n",
    "        impares.append(x)\n",
    "\n",
    "print(f'A lista de números foi: {valores} \\nOs números pares são: {pares} \\nOs números impares são: {impares}')"
   ]
  },
  {
   "cell_type": "code",
   "execution_count": null,
   "metadata": {},
   "outputs": [],
   "source": [
    "#input da quantidade de vetores\n",
    "n = int(input('Digite um número: '))\n",
    "\n",
    "while n < 1:\n",
    "    n = int(input('Digite um número: '))\n",
    "#Definindo os vetores, todos de tamanho n (maior possivel)\n",
    "v1 = [0]*n\n",
    "par = [0]*n\n",
    "impar = [0]*n\n",
    "#Quantidade de impares e pares\n",
    "qp = qi = 0 \n",
    "#programa\n",
    "for i in range(n):\n",
    "    v1[i] = int (input(\"V1 elemento\" + str(i) + + ': '))\n",
    "    if v1[i] % 2 == 0:\n",
    "        par[qp] = v1[i]\n",
    "        qp += 1\n",
    "    else:\n",
    "        impar[qi] = v1[i]\n",
    "        qi += 1\n",
    "#definir a quantidade de vetores de cada um dos tipos\n",
    "par = par[:qp]\n",
    "impar = impar[:qi]\n",
    "#prints das listas\n",
    "print(f'Lidos: {v1}')\n",
    "print(f'Pares: {par}')\n",
    "print(f'Impares: {impar}')"
   ]
  },
  {
   "attachments": {},
   "cell_type": "markdown",
   "metadata": {},
   "source": [
    "7 - ler as notas finais de N alunos (N é informado pelo usuário), calcular e imprimir a média destas notas e depois imprimir as notas que sejam maiores do que a média calculada"
   ]
  },
  {
   "cell_type": "code",
   "execution_count": 52,
   "metadata": {},
   "outputs": [
    {
     "name": "stdout",
     "output_type": "stream",
     "text": [
      "A média das notas é:  3.5\n",
      "As notas [6.0, 5.0, 4.0, 3.0] estão acima da média\n"
     ]
    }
   ],
   "source": [
    "#inputs\n",
    "n = int(input('Digite o número de alunos: '))\n",
    "\n",
    "notas = []\n",
    "for i in range(n):\n",
    "    nota = float(input('Digite a nota do aluno: '))\n",
    "    notas.append(nota)\n",
    "\n",
    "#Calculando a média das notas\n",
    "media = sum(notas)/len(notas)\n",
    "print('A média das notas é: ', media)\n",
    "\n",
    "#Notas maiores que a média\n",
    "notas_m = []\n",
    "cont = -1\n",
    "while nota > media:\n",
    "    nota = notas[cont]\n",
    "    notas_m.append(nota)\n",
    "    cont += -1\n",
    "print(f'As notas {notas_m} estão acima da média')"
   ]
  },
  {
   "attachments": {},
   "cell_type": "markdown",
   "metadata": {},
   "source": [
    "8 - Ler uma sequência de números inteiros positivos(ou zero). A leitura deve parar com a digitação de um valor negativo. O seu programa deve imprimir os números ligos cujos valores tem dois dígitos significativos, mas na ordem inversa em que forem lidos - o último número lido deve ser o primeiro a ser impresso"
   ]
  },
  {
   "cell_type": "code",
   "execution_count": 6,
   "metadata": {},
   "outputs": [
    {
     "name": "stdout",
     "output_type": "stream",
     "text": [
      "50\n",
      "40\n",
      "30\n"
     ]
    }
   ],
   "source": [
    "#inputs e variáveis\n",
    "numeros =[]\n",
    "n = int(input('Digite um número inteiro positivo: '))\n",
    "\n",
    "#programa\n",
    "while n >= 0:\n",
    "    if len(str(n)) == 2:\n",
    "        numeros.append(n)\n",
    "    n = int(input('Digite um número inteiro positivo: '))\n",
    "\n",
    "#prints\n",
    "for num in reversed(numeros):\n",
    "    print(num)"
   ]
  },
  {
   "cell_type": "code",
   "execution_count": null,
   "metadata": {},
   "outputs": [],
   "source": [
    "#Variáveis\n",
    "numeros = []\n",
    "qtd = 0 #quantidade de números\n",
    "#entradas\n",
    "n = int(input('Número, negativo para: '))\n",
    "while n >= 0:\n",
    "    if  n > 9 and  n < 100: #numeros com 2 algarismos significativos são de 10 a 99\n",
    "        numeros.append(n)\n",
    "    n = int(input('Número, negativo para: '))\n",
    "#prints\n",
    "numeros.reverse()\n",
    "print(numeros)"
   ]
  },
  {
   "attachments": {},
   "cell_type": "markdown",
   "metadata": {},
   "source": [
    "9 - Altere o programa anterior para garantir que o usuário digitará no máximo 1000 números"
   ]
  },
  {
   "cell_type": "code",
   "execution_count": null,
   "metadata": {},
   "outputs": [],
   "source": [
    "#inputs e variáveis\n",
    "numeros =[]\n",
    "n = int(input('Digite um número inteiro positivo: '))\n",
    "\n",
    "#programa\n",
    "while n >= 0 and len(numeros) <= 1000:\n",
    "    if len(str(n)) == 2:\n",
    "        numeros.append(n)\n",
    "    n = int(input('Digite um número inteiro positivo: '))\n",
    "\n",
    "if len(numeros) == 1000:\n",
    "    print('Número máximo de números atingido')\n",
    "#prints\n",
    "for num in reversed(numeros):\n",
    "    print(num)"
   ]
  },
  {
   "attachments": {},
   "cell_type": "markdown",
   "metadata": {},
   "source": [
    "10 - Ler por linhas uma matriz MxN, onde M<=4 e N<=8 são lidos antes da leitura da matriz. Depois, percorrer a matriz por colunas, armazenar em uma lista os elementos desta matriz que sejam multiplos de 6. No final, imprimir de maneira organizada a matriz e o vetor."
   ]
  },
  {
   "cell_type": "code",
   "execution_count": null,
   "metadata": {},
   "outputs": [],
   "source": []
  }
 ],
 "metadata": {
  "kernelspec": {
   "display_name": "Python 3",
   "language": "python",
   "name": "python3"
  },
  "language_info": {
   "codemirror_mode": {
    "name": "ipython",
    "version": 3
   },
   "file_extension": ".py",
   "mimetype": "text/x-python",
   "name": "python",
   "nbconvert_exporter": "python",
   "pygments_lexer": "ipython3",
   "version": "3.11.1"
  },
  "orig_nbformat": 4,
  "vscode": {
   "interpreter": {
    "hash": "eba10f099525e90365edbf4a7f32994c9b811cbe83fa4a775622dd6e5947500a"
   }
  }
 },
 "nbformat": 4,
 "nbformat_minor": 2
}
