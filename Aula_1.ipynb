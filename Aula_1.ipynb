{
 "cells": [
  {
   "attachments": {},
   "cell_type": "markdown",
   "metadata": {},
   "source": [
    "### Aula_1 - Programa e Comandos Básicos \n",
    "Prof Roberto Barros (roberto@cin.ufpe.br)\n",
    "\n",
    "Disciplina: Introdução a Python"
   ]
  },
  {
   "attachments": {},
   "cell_type": "markdown",
   "metadata": {},
   "source": [
    "Estrutura do Programa:\n",
    "\n",
    "    1- Definir o que o programa faz por comentário\n",
    "    2- Definir as funções\n",
    "    3- Crição de Variáveis\n",
    "    4- Comando dos Programas"
   ]
  },
  {
   "cell_type": "markdown",
   "metadata": {},
   "source": [
    "## Descrição do Exercicio Comandos Básicos"
   ]
  },
  {
   "attachments": {},
   "cell_type": "markdown",
   "metadata": {},
   "source": [
    "1- Ler 3 números do tipo float, calcular a sua mérdia aritmétrica, e imprimir os números juntamento com o resultado. E se os números forem inteiros? "
   ]
  },
  {
   "cell_type": "code",
   "execution_count": 3,
   "metadata": {},
   "outputs": [
    {
     "name": "stdout",
     "output_type": "stream",
     "text": [
      "Os números digitados foram: 6.0, 8.0, 10.0 e a média é 8.0\n"
     ]
    }
   ],
   "source": [
    "#Definindo variáveis \n",
    "num_1 = float(input('Digite um número: '))\n",
    "num_2 = float(input('Digite um número: '))\n",
    "num_3 = float(input('Digite um número: '))\n",
    "\n",
    "#Calculando a média\n",
    "\n",
    "media = (num_1 + num_2 + num_3)/3\n",
    "\n",
    "#Printando os Resultados\n",
    "\n",
    "print(f'Os números digitados foram: {num_1}, {num_2}, {num_3} e a média é {media}')\n"
   ]
  },
  {
   "attachments": {},
   "cell_type": "markdown",
   "metadata": {},
   "source": [
    "2- Ler 2 npumeros interitos e calcular o resto da divisão do primeiro pelo segundo. Se o resto for zero, imprimir o primeiro número, se não imprimir o quadrado do resto. Existe uma situação que pode causar problema: pense se seu programa está preparado para lidar com isso"
   ]
  },
  {
   "cell_type": "code",
   "execution_count": 9,
   "metadata": {},
   "outputs": [
    {
     "name": "stdout",
     "output_type": "stream",
     "text": [
      "4\n"
     ]
    }
   ],
   "source": [
    "#Definindo variáveis\n",
    "num1 = int(input())\n",
    "num2 = int(input())\n",
    "\n",
    "while num2 == 0:\n",
    "    num2 = int(input(\"Digite um número diferente de Zero: \"))\n",
    "\n",
    "#Execultando a divisão \n",
    "\n",
    "resto = num1%num2\n",
    "\n",
    "if resto == 0:\n",
    "    print(num1)\n",
    "else: \n",
    "    print(resto**2)"
   ]
  },
  {
   "attachments": {},
   "cell_type": "markdown",
   "metadata": {},
   "source": [
    "3- Ler 2 números e imprimir o menor deles. Sua solução é facilmente escalável para uma grande quantidade de números?"
   ]
  },
  {
   "cell_type": "code",
   "execution_count": 12,
   "metadata": {},
   "outputs": [
    {
     "name": "stdout",
     "output_type": "stream",
     "text": [
      "O menor número é : -4.0 \n"
     ]
    }
   ],
   "source": [
    "#Definindo variáveis\n",
    "cont = 0\n",
    "listNum = []\n",
    "\n",
    "while cont != 3:\n",
    "    num = float(input(\"Digite um número: \"))\n",
    "    listNum.append(num)\n",
    "    cont += 1\n",
    "\n",
    "print(f\"O menor número é : {min(listNum)} \" )"
   ]
  },
  {
   "attachments": {},
   "cell_type": "markdown",
   "metadata": {},
   "source": [
    "#### Os exercícios a seguir devem ter resolução usando for e while, respectivamente"
   ]
  },
  {
   "attachments": {},
   "cell_type": "markdown",
   "metadata": {},
   "source": [
    "4 - Somar os inteiros pares entre 50 e 100 (inclusive)"
   ]
  },
  {
   "cell_type": "code",
   "execution_count": 14,
   "metadata": {},
   "outputs": [
    {
     "name": "stdout",
     "output_type": "stream",
     "text": [
      "1950\n"
     ]
    }
   ],
   "source": [
    "#Resolução usando for\n",
    "\n",
    "#Definindo variáveis \n",
    "soma = 0\n",
    "\n",
    "#programa\n",
    "for i in range(50, 102, 2):\n",
    "    soma += i\n",
    "\n",
    "#saida\n",
    "print(soma) "
   ]
  },
  {
   "cell_type": "code",
   "execution_count": 15,
   "metadata": {},
   "outputs": [
    {
     "name": "stdout",
     "output_type": "stream",
     "text": [
      "1950\n"
     ]
    }
   ],
   "source": [
    "#Resolução usando while\n",
    "\n",
    "#Definindo variável\n",
    "soma = 0\n",
    "num = 50 \n",
    "\n",
    "#Programa \n",
    "while num <= 100:\n",
    "    soma += num \n",
    "    num += 2\n",
    "\n",
    "#saida\n",
    "print(soma)"
   ]
  },
  {
   "attachments": {},
   "cell_type": "markdown",
   "metadata": {},
   "source": [
    "5 - Calcular o fatorial de um número lido"
   ]
  },
  {
   "cell_type": "code",
   "execution_count": 16,
   "metadata": {},
   "outputs": [
    {
     "name": "stdout",
     "output_type": "stream",
     "text": [
      "120\n"
     ]
    }
   ],
   "source": [
    "#Resolução usando for\n",
    "\n",
    "#Declarando variáveis \n",
    "num = int(input(\"Digite um número inteiro: \"))\n",
    "fatorial = 1\n",
    "\n",
    "#Programa\n",
    "for i in range(1, num + 1):\n",
    "    fatorial = fatorial*i\n",
    "\n",
    "#Saidas\n",
    "print(fatorial)"
   ]
  },
  {
   "cell_type": "code",
   "execution_count": 17,
   "metadata": {},
   "outputs": [
    {
     "name": "stdout",
     "output_type": "stream",
     "text": [
      "120\n"
     ]
    }
   ],
   "source": [
    "#Resolução usando o while\n",
    "\n",
    "#Declarando variável\n",
    "num = int(input(\"Digite um número inteiro: \"))\n",
    "fatorial = 1 \n",
    "cont = 0 \n",
    "\n",
    "#Programa\n",
    "while cont != num:\n",
    "    cont += 1\n",
    "    fatorial = fatorial*cont\n",
    "\n",
    "#Saida\n",
    "print(fatorial)"
   ]
  },
  {
   "attachments": {},
   "cell_type": "markdown",
   "metadata": {},
   "source": [
    "6 - Calcular o valor de S com N termos, onde N é informado pelo usuário e:\n",
    "\n",
    "    a) S = 1 + 3/2 + 5/3 + 7/4 + ...\n",
    "    b) S = 2/500 - 5/490 + 2/480 - 5/470 + ...\n",
    "    c) S = 37*38/1 + 36*37/2 + 35*36/3 + ... "
   ]
  },
  {
   "cell_type": "code",
   "execution_count": 22,
   "metadata": {},
   "outputs": [
    {
     "name": "stdout",
     "output_type": "stream",
     "text": [
      "O valor de S é 5.916666666666667\n"
     ]
    }
   ],
   "source": [
    "#Resolvendo letra A com for\n",
    "\n",
    "#Declarando variáveis\n",
    "n = int(input())\n",
    "s = 0 \n",
    "\n",
    "#programa\n",
    "for i in range(1,n+1):\n",
    "    s += ( (2*i - 1) / i ) \n",
    "\n",
    "#Saida\n",
    "print(f\"O valor de S é {s}\")"
   ]
  },
  {
   "cell_type": "code",
   "execution_count": 26,
   "metadata": {},
   "outputs": [
    {
     "name": "stdout",
     "output_type": "stream",
     "text": [
      "O valor de S é 5.916666666666667\n"
     ]
    }
   ],
   "source": [
    "#Resolvendo letra A com While\n",
    "\n",
    "#Declarando variáveis\n",
    "n = int(input())\n",
    "s = 0\n",
    "i = 1\n",
    "\n",
    "#programa\n",
    "while i != n+1:\n",
    "    s += ( (2*i - 1) / i ) \n",
    "    i += 1 \n",
    "\n",
    "#saida \n",
    "print(f\"O valor de S é {s}\")"
   ]
  },
  {
   "cell_type": "code",
   "execution_count": 24,
   "metadata": {},
   "outputs": [
    {
     "name": "stdout",
     "output_type": "stream",
     "text": [
      "O valor de S é : -0.01267571283832682\n"
     ]
    }
   ],
   "source": [
    "#Resolvendo letra B por For \n",
    "#b) S = 2/500 - 5/490 + 2/480 - 5/470 + ...\n",
    "\n",
    "#Declarando variáveis\n",
    "n = int(input())\n",
    "s = 0\n",
    "aux = 500 \n",
    "\n",
    "#Programa\n",
    "for i in range(1, n+1):\n",
    "    if i%2 == 1:\n",
    "        s += 2/aux\n",
    "    else:\n",
    "        s += -5/aux\n",
    "\n",
    "    aux = aux - 10\n",
    "\n",
    "#saida\n",
    "print(f\"O valor de S é : {s}\")"
   ]
  },
  {
   "cell_type": "code",
   "execution_count": 23,
   "metadata": {},
   "outputs": [
    {
     "name": "stdout",
     "output_type": "stream",
     "text": [
      "O valor de S é : -0.01267571283832682\n"
     ]
    }
   ],
   "source": [
    "#Resolvendo letra B por while\n",
    "#b) S = 2/500 - 5/490 + 2/480 - 5/470 + ...\n",
    "\n",
    "#Declarando variáveis\n",
    "n = int(input())\n",
    "s = 0\n",
    "aux = 500\n",
    "i = 0\n",
    "\n",
    "#Programa\n",
    "while i != n:\n",
    "    if i%2 == 0:\n",
    "        s += 2/aux\n",
    "    else:\n",
    "        s = s-5/aux\n",
    "\n",
    "    aux = aux - 10\n",
    "    i += 1\n",
    "    \n",
    "#saida\n",
    "print(f\"O valor de S é : {s}\")"
   ]
  },
  {
   "cell_type": "code",
   "execution_count": 29,
   "metadata": {},
   "outputs": [
    {
     "name": "stdout",
     "output_type": "stream",
     "text": [
      "O valor da soma é: 2072.0\n"
     ]
    }
   ],
   "source": [
    "#Resolvendo a letra C por for\n",
    "#S = 37*38/1 + 36*37/2 + 35*36/3 + ... \n",
    "\n",
    "#Declarando variáveis\n",
    "n = int(input())\n",
    "s = 0\n",
    "\n",
    "#Programa\n",
    "for i in range(n):\n",
    "    s += ((37 - i)*(38-i)/(i+1))\n",
    "\n",
    "#saida\n",
    "print(f\"O valor da soma é: {s}\")"
   ]
  },
  {
   "cell_type": "code",
   "execution_count": 31,
   "metadata": {},
   "outputs": [
    {
     "name": "stdout",
     "output_type": "stream",
     "text": [
      "O valor da soma é: 2492.0\n"
     ]
    }
   ],
   "source": [
    "#Resolvendo a letra C por while\n",
    "#S = 37*38/1 + 36*37/2 + 35*36/3 + ... \n",
    "\n",
    "#Declarando variáveis\n",
    "n = int(input())\n",
    "s = 0\n",
    "i = 0\n",
    "\n",
    "#Programa\n",
    "while i != n:\n",
    "    s += ((37 - i)*(38-i)/(i+1))\n",
    "    i += 1\n",
    "\n",
    "#saida\n",
    "print(f\"O valor da soma é: {s}\")"
   ]
  },
  {
   "attachments": {},
   "cell_type": "markdown",
   "metadata": {},
   "source": [
    "7 - Somar os inteiros ímpares entre dois valores inteiros informados pelo usuário"
   ]
  },
  {
   "cell_type": "code",
   "execution_count": 3,
   "metadata": {},
   "outputs": [
    {
     "name": "stdout",
     "output_type": "stream",
     "text": [
      "A soma é: 8\n"
     ]
    }
   ],
   "source": [
    "#Declarando variáveis\n",
    "num1 = int(input())\n",
    "num2 = int(input())\n",
    "soma = 0\n",
    "\n",
    "#programa\n",
    "for i in range(num1 +1, num2 ):\n",
    "    if i % 2 == 1:\n",
    "        soma += i\n",
    "\n",
    "#saídas\n",
    "print(f\"A soma é: {soma}\")\n"
   ]
  },
  {
   "attachments": {},
   "cell_type": "markdown",
   "metadata": {},
   "source": [
    "8 - Construir uma tabela de conversão de graus Fahrenheit para Celsius, para toso os Fahrenheit em um intervalo informado pelo usuário. Obs: C = (F - 32)*5 / 9 "
   ]
  },
  {
   "attachments": {},
   "cell_type": "markdown",
   "metadata": {},
   "source": [
    "9 - Ler um número inteiro N e imprimir o valor do n-ésimo termo da sequência a seguir: [-1, 0, 5, 6, 11, 12, 17, 18, ...]"
   ]
  },
  {
   "cell_type": "markdown",
   "metadata": {},
   "source": []
  },
  {
   "cell_type": "code",
   "execution_count": null,
   "metadata": {},
   "outputs": [],
   "source": []
  }
 ],
 "metadata": {
  "kernelspec": {
   "display_name": "Python 3",
   "language": "python",
   "name": "python3"
  },
  "language_info": {
   "codemirror_mode": {
    "name": "ipython",
    "version": 3
   },
   "file_extension": ".py",
   "mimetype": "text/x-python",
   "name": "python",
   "nbconvert_exporter": "python",
   "pygments_lexer": "ipython3",
   "version": "3.11.1 (tags/v3.11.1:a7a450f, Dec  6 2022, 19:58:39) [MSC v.1934 64 bit (AMD64)]"
  },
  "orig_nbformat": 4,
  "vscode": {
   "interpreter": {
    "hash": "eba10f099525e90365edbf4a7f32994c9b811cbe83fa4a775622dd6e5947500a"
   }
  }
 },
 "nbformat": 4,
 "nbformat_minor": 2
}
