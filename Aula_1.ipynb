{
 "cells": [
  {
   "attachments": {},
   "cell_type": "markdown",
   "metadata": {},
   "source": [
    "### Aula_1 - Programa e Comandos Básicos \n",
    "Prof Roberto Barros (roberto@cin.ufpe.br)\n",
    "\n",
    "Disciplina: Introdução a Python"
   ]
  },
  {
   "attachments": {},
   "cell_type": "markdown",
   "metadata": {},
   "source": [
    "Estrutura do Programa:\n",
    "\n",
    "    1- Definir o que o programa faz por comentário\n",
    "    2- Definir as funções\n",
    "    3- Crição de Variáveis\n",
    "    4- Comando dos Programas"
   ]
  },
  {
   "cell_type": "markdown",
   "metadata": {},
   "source": [
    "## Descrição do Exercicio Comandos Básicos"
   ]
  },
  {
   "attachments": {},
   "cell_type": "markdown",
   "metadata": {},
   "source": [
    "1- Ler 3 números do tipo float, calcular a sua mérdia aritmétrica, e imprimir os números juntamento com o resultado. E se os números forem inteiros? "
   ]
  },
  {
   "cell_type": "code",
   "execution_count": 3,
   "metadata": {},
   "outputs": [
    {
     "name": "stdout",
     "output_type": "stream",
     "text": [
      "Os números digitados foram: 6.0, 8.0, 10.0 e a média é 8.0\n"
     ]
    }
   ],
   "source": [
    "#Definindo variáveis \n",
    "num_1 = float(input('Digite um número: '))\n",
    "num_2 = float(input('Digite um número: '))\n",
    "num_3 = float(input('Digite um número: '))\n",
    "\n",
    "#Calculando a média\n",
    "\n",
    "media = (num_1 + num_2 + num_3)/3\n",
    "\n",
    "#Printando os Resultados\n",
    "\n",
    "print(f'Os números digitados foram: {num_1}, {num_2}, {num_3} e a média é {media}')\n"
   ]
  },
  {
   "attachments": {},
   "cell_type": "markdown",
   "metadata": {},
   "source": [
    "2- Ler 2 npumeros interitos e calcular o resto da divisão do primeiro pelo segundo. Se o resto for zero, imprimir o primeiro número, se não imprimir o quadrado do resto. Existe uma situação que pode causar problema: pense se seu programa está preparado para lidar com isso"
   ]
  },
  {
   "cell_type": "code",
   "execution_count": 9,
   "metadata": {},
   "outputs": [
    {
     "name": "stdout",
     "output_type": "stream",
     "text": [
      "4\n"
     ]
    }
   ],
   "source": [
    "#Definindo variáveis\n",
    "num1 = int(input())\n",
    "num2 = int(input())\n",
    "\n",
    "while num2 == 0:\n",
    "    num2 = int(input(\"Digite um número diferente de Zero: \"))\n",
    "\n",
    "#Execultando a divisão \n",
    "\n",
    "resto = num1%num2\n",
    "\n",
    "if resto == 0:\n",
    "    print(num1)\n",
    "else: \n",
    "    print(resto**2)"
   ]
  },
  {
   "attachments": {},
   "cell_type": "markdown",
   "metadata": {},
   "source": [
    "3- Ler 2 números e imprimir o menor deles. Sua solução é facilmente escalável para uma grande quantidade de números?"
   ]
  },
  {
   "cell_type": "code",
   "execution_count": 12,
   "metadata": {},
   "outputs": [
    {
     "name": "stdout",
     "output_type": "stream",
     "text": [
      "O menor número é : -4.0 \n"
     ]
    }
   ],
   "source": [
    "#Definindo variáveis\n",
    "cont = 0\n",
    "listNum = []\n",
    "\n",
    "while cont != 3:\n",
    "    num = float(input(\"Digite um número: \"))\n",
    "    listNum.append(num)\n",
    "    cont += 1\n",
    "\n",
    "print(f\"O menor número é : {min(listNum)} \" )"
   ]
  },
  {
   "cell_type": "code",
   "execution_count": 2,
   "metadata": {},
   "outputs": [
    {
     "name": "stdout",
     "output_type": "stream",
     "text": [
      "1\n"
     ]
    }
   ],
   "source": [
    "#Forma otimizada de resolver sem listas\n",
    "menor = n = int(input())\n",
    "for i in range(1,3):\n",
    "    if n < menor:\n",
    "        menor = n\n",
    "    n = int(input())\n",
    "\n",
    "print(menor)"
   ]
  },
  {
   "attachments": {},
   "cell_type": "markdown",
   "metadata": {},
   "source": [
    "#### Os exercícios a seguir devem ter resolução usando for e while, respectivamente"
   ]
  },
  {
   "attachments": {},
   "cell_type": "markdown",
   "metadata": {},
   "source": [
    "4 - Somar os inteiros pares entre 50 e 100 (inclusive)"
   ]
  },
  {
   "cell_type": "code",
   "execution_count": 14,
   "metadata": {},
   "outputs": [
    {
     "name": "stdout",
     "output_type": "stream",
     "text": [
      "1950\n"
     ]
    }
   ],
   "source": [
    "#Resolução usando for\n",
    "\n",
    "#Definindo variáveis \n",
    "soma = 0\n",
    "\n",
    "#programa\n",
    "for i in range(50, 102, 2):\n",
    "    soma += i\n",
    "\n",
    "#saida\n",
    "print(soma) "
   ]
  },
  {
   "cell_type": "code",
   "execution_count": 15,
   "metadata": {},
   "outputs": [
    {
     "name": "stdout",
     "output_type": "stream",
     "text": [
      "1950\n"
     ]
    }
   ],
   "source": [
    "#Resolução usando while\n",
    "\n",
    "#Definindo variável\n",
    "soma = 0\n",
    "num = 50 \n",
    "\n",
    "#Programa \n",
    "while num <= 100:\n",
    "    soma += num \n",
    "    num += 2\n",
    "\n",
    "#saida\n",
    "print(soma)"
   ]
  },
  {
   "attachments": {},
   "cell_type": "markdown",
   "metadata": {},
   "source": [
    "5 - Calcular o fatorial de um número lido"
   ]
  },
  {
   "cell_type": "code",
   "execution_count": 16,
   "metadata": {},
   "outputs": [
    {
     "name": "stdout",
     "output_type": "stream",
     "text": [
      "120\n"
     ]
    }
   ],
   "source": [
    "#Resolução usando for\n",
    "\n",
    "#Declarando variáveis \n",
    "num = int(input(\"Digite um número inteiro: \"))\n",
    "fatorial = 1\n",
    "\n",
    "#Programa\n",
    "for i in range(1, num + 1):\n",
    "    fatorial = fatorial*i\n",
    "\n",
    "#Saidas\n",
    "print(fatorial)"
   ]
  },
  {
   "cell_type": "code",
   "execution_count": 17,
   "metadata": {},
   "outputs": [
    {
     "name": "stdout",
     "output_type": "stream",
     "text": [
      "120\n"
     ]
    }
   ],
   "source": [
    "#Resolução usando o while\n",
    "\n",
    "#Declarando variável\n",
    "num = int(input(\"Digite um número inteiro: \"))\n",
    "fatorial = 1 \n",
    "cont = 0 \n",
    "\n",
    "#Programa\n",
    "while cont != num:\n",
    "    cont += 1\n",
    "    fatorial = fatorial*cont\n",
    "\n",
    "#Saida\n",
    "print(fatorial)"
   ]
  },
  {
   "attachments": {},
   "cell_type": "markdown",
   "metadata": {},
   "source": [
    "6 - Calcular o valor de S com N termos, onde N é informado pelo usuário e:\n",
    "\n",
    "    a) S = 1 + 3/2 + 5/3 + 7/4 + ...\n",
    "    b) S = 2/500 - 5/490 + 2/480 - 5/470 + ...\n",
    "    c) S = 37*38/1 + 36*37/2 + 35*36/3 + ... "
   ]
  },
  {
   "cell_type": "code",
   "execution_count": 22,
   "metadata": {},
   "outputs": [
    {
     "name": "stdout",
     "output_type": "stream",
     "text": [
      "O valor de S é 5.916666666666667\n"
     ]
    }
   ],
   "source": [
    "#Resolvendo letra A com for\n",
    "\n",
    "#Declarando variáveis\n",
    "n = int(input())\n",
    "while n <= 0:\n",
    "    n = int(input('Digite um número de termos válido'))  #lembrar que não pode ter termos negativos!!\n",
    "s = 0 \n",
    "\n",
    "#programa\n",
    "for i in range(1,n+1):\n",
    "    s += ( (2*i - 1) / i ) \n",
    "\n",
    "#Saida\n",
    "print(f\"O valor de S é {s}\")"
   ]
  },
  {
   "cell_type": "code",
   "execution_count": 26,
   "metadata": {},
   "outputs": [
    {
     "name": "stdout",
     "output_type": "stream",
     "text": [
      "O valor de S é 5.916666666666667\n"
     ]
    }
   ],
   "source": [
    "#Resolvendo letra A com While\n",
    "\n",
    "#Declarando variáveis\n",
    "n = int(input())\n",
    "while n <= 0:\n",
    "    n = int(input('Digite um número de termos válido'))\n",
    "s = 0\n",
    "i = 1\n",
    "\n",
    "#programa\n",
    "while i != n+1:\n",
    "    s += ( (2*i - 1) / i ) \n",
    "    i += 1 \n",
    "\n",
    "#saida \n",
    "print(f\"O valor de S é {s}\")"
   ]
  },
  {
   "cell_type": "code",
   "execution_count": 6,
   "metadata": {},
   "outputs": [
    {
     "name": "stdout",
     "output_type": "stream",
     "text": [
      "O valor de S é : 0.004\n"
     ]
    }
   ],
   "source": [
    "#Resolvendo letra B por For \n",
    "#b) S = 2/500 - 5/490 + 2/480 - 5/470 + ...\n",
    "\n",
    "#Declarando variáveis\n",
    "n = int(input())\n",
    "while n <= 0 or n > 50: #o número máximo é 50 pois no termo 51 o denominador é zero e vai dar erro\n",
    "    n = int(input('Digite um número de termos válido'))\n",
    "s = 0.0 #colocar o 0.0 para que o programa ja começe com um número real, caso contrário vai haver mudança de tipo\n",
    "aux = 500 \n",
    "\n",
    "#Programa\n",
    "for i in range(1, n+1):\n",
    "    if i%2 == 1:\n",
    "        s += 2/aux\n",
    "    else:\n",
    "        s += -5/aux\n",
    "\n",
    "    aux = aux - 10\n",
    "\n",
    "#saida\n",
    "print(f\"O valor de S é : {s}\")"
   ]
  },
  {
   "cell_type": "code",
   "execution_count": 23,
   "metadata": {},
   "outputs": [
    {
     "name": "stdout",
     "output_type": "stream",
     "text": [
      "O valor de S é : -0.01267571283832682\n"
     ]
    }
   ],
   "source": [
    "#Resolvendo letra B por while\n",
    "#b) S = 2/500 - 5/490 + 2/480 - 5/470 + ...\n",
    "\n",
    "#Declarando variáveis\n",
    "n = int(input())\n",
    "while n <= 0:\n",
    "    n = int(input('Digite um número de termos válido'))\n",
    "s = 0\n",
    "aux = 500\n",
    "i = 0\n",
    "\n",
    "#Programa\n",
    "while i != n:\n",
    "    if i%2 == 0:\n",
    "        s += 2/aux\n",
    "    else:\n",
    "        s = s-5/aux\n",
    "\n",
    "    aux = aux - 10\n",
    "    i += 1\n",
    "    \n",
    "#saida\n",
    "print(f\"O valor de S é : {s}\")"
   ]
  },
  {
   "cell_type": "code",
   "execution_count": 29,
   "metadata": {},
   "outputs": [
    {
     "name": "stdout",
     "output_type": "stream",
     "text": [
      "O valor da soma é: 2072.0\n"
     ]
    }
   ],
   "source": [
    "#Resolvendo a letra C por for\n",
    "#S = 37*38/1 + 36*37/2 + 35*36/3 + ... \n",
    "\n",
    "#Declarando variáveis\n",
    "n = int(input())\n",
    "while n <= 0:\n",
    "    n = int(input('Digite um número de termos válido'))\n",
    "s = 0\n",
    "\n",
    "#Programa\n",
    "for i in range(n):\n",
    "    s += ((37 - i)*(38-i)/(i+1))\n",
    "\n",
    "#saida\n",
    "print(f\"O valor da soma é: {s}\")"
   ]
  },
  {
   "cell_type": "code",
   "execution_count": 31,
   "metadata": {},
   "outputs": [
    {
     "name": "stdout",
     "output_type": "stream",
     "text": [
      "O valor da soma é: 2492.0\n"
     ]
    }
   ],
   "source": [
    "#Resolvendo a letra C por while\n",
    "#S = 37*38/1 + 36*37/2 + 35*36/3 + ... \n",
    "\n",
    "#Declarando variáveis\n",
    "n = int(input())\n",
    "while n <= 0:\n",
    "    n = int(input('Digite um número de termos válido'))\n",
    "s = 0\n",
    "i = 0\n",
    "\n",
    "#Programa\n",
    "while i != n:\n",
    "    s += ((37 - i)*(38-i)/(i+1))\n",
    "    i += 1\n",
    "\n",
    "#saida\n",
    "print(f\"O valor da soma é: {s}\")"
   ]
  },
  {
   "attachments": {},
   "cell_type": "markdown",
   "metadata": {},
   "source": [
    "7 - Somar os inteiros ímpares entre dois valores inteiros informados pelo usuário"
   ]
  },
  {
   "cell_type": "code",
   "execution_count": 40,
   "metadata": {},
   "outputs": [
    {
     "name": "stdout",
     "output_type": "stream",
     "text": [
      "A soma é: 9\n"
     ]
    }
   ],
   "source": [
    "#Resolução com for\n",
    "#Declarando variáveis\n",
    "num1 = int(input())\n",
    "num2 = int(input())\n",
    "soma = 0\n",
    "\n",
    "if num2 < num1: #independente de qual deles é o maior o programa continua funcionando\n",
    "    num1,num2 = num2,num1\n",
    "\n",
    "#programa\n",
    "for i in range(num1, num2+1 ):\n",
    "    if i % 2 == 1:\n",
    "        soma += i\n",
    "\n",
    "#saídas\n",
    "print(f\"A soma é: {soma}\")\n"
   ]
  },
  {
   "cell_type": "code",
   "execution_count": 38,
   "metadata": {},
   "outputs": [
    {
     "name": "stdout",
     "output_type": "stream",
     "text": [
      "A soma é: 9\n"
     ]
    }
   ],
   "source": [
    "#Resolução com while\n",
    "\n",
    "#Declarando variáveis\n",
    "num1 = int(input())\n",
    "num2 = int(input())\n",
    "soma = 0\n",
    "\n",
    "if num2 < num1: #independente de qual deles é o maior o programa continua funcionando\n",
    "    num1,num2 = num2,num1\n",
    "    \n",
    "num1 = num1\n",
    "while num1 <= num2:\n",
    "    if num1%2 == 1: \n",
    "        soma += num1\n",
    "    num1 +=1 \n",
    "\n",
    "#saídas\n",
    "print(f'A soma é: {soma}')"
   ]
  },
  {
   "attachments": {},
   "cell_type": "markdown",
   "metadata": {},
   "source": [
    "8 - Construir uma tabela de conversão de graus Fahrenheit para Celsius, para toso os Fahrenheit em um intervalo informado pelo usuário. Obs: C = (F - 32)*5 / 9 "
   ]
  },
  {
   "cell_type": "code",
   "execution_count": 15,
   "metadata": {},
   "outputs": [
    {
     "name": "stdout",
     "output_type": "stream",
     "text": [
      "1°F  -> -17.22°C\n",
      "2°F  -> -16.67°C\n",
      "3°F  -> -16.11°C\n",
      "4°F  -> -15.56°C\n",
      "5°F  -> -15.00°C\n",
      "6°F  -> -14.44°C\n"
     ]
    }
   ],
   "source": [
    "#Resolvendo com For\n",
    "#Declarando variáveis\n",
    "fah1 = int(input())\n",
    "fah2 = int(input())\n",
    "\n",
    "if fah2 < fah1: #independente de qual deles é o maior o programa continua funcionando\n",
    "    fah1,fah2 = fah2,fah1\n",
    "\n",
    "for fah in range(fah1,fah2+1):\n",
    "    c = (fah - 32)*5/9 \n",
    "    print(f'{fah}°F  -> {c:,.2f}°C')\n"
   ]
  },
  {
   "cell_type": "code",
   "execution_count": 16,
   "metadata": {},
   "outputs": [
    {
     "name": "stdout",
     "output_type": "stream",
     "text": [
      "1°F  -> -17.22°C\n",
      "2°F  -> -16.67°C\n",
      "3°F  -> -16.11°C\n",
      "4°F  -> -15.56°C\n",
      "5°F  -> -15.00°C\n",
      "6°F  -> -14.44°C\n"
     ]
    }
   ],
   "source": [
    "#Resolvendo com while\n",
    "#Declarando variáveis\n",
    "fah1 = int(input())\n",
    "fah2 = int(input())\n",
    "\n",
    "if fah2 < fah1: #independente de qual deles é o maior o programa continua funcionando\n",
    "    fah1,fah2 = fah2,fah1\n",
    "\n",
    "while fah1 <= fah2:\n",
    "    c = (fah1- 32)*5/9 \n",
    "    print(f'{fah1}°F  -> {c:,.2f}°C')\n",
    "    fah1 += 1"
   ]
  },
  {
   "attachments": {},
   "cell_type": "markdown",
   "metadata": {},
   "source": [
    "9 - Ler um número inteiro N e imprimir o valor do n-ésimo termo da sequência a seguir: [-1, 0, 5, 6, 11, 12, 17, 18, ...]"
   ]
  },
  {
   "cell_type": "code",
   "execution_count": 26,
   "metadata": {},
   "outputs": [
    {
     "name": "stdout",
     "output_type": "stream",
     "text": [
      "18\n"
     ]
    }
   ],
   "source": [
    "#Resolvendo com for\n",
    "#Lendo os inputs\n",
    "n = int(input())\n",
    "\n",
    "while n < 1: #impedindo que haja termos negativos\n",
    "    n = int(input('Digite um número de termo válido'))\n",
    "termo = -1\n",
    "\n",
    "if n == 0:\n",
    "    print(termo)\n",
    "else:   \n",
    "    for i in range(n-1):\n",
    "        if i % 2 == 0:\n",
    "            termo += 1\n",
    "        else:\n",
    "            termo += 5\n",
    "    print(termo)"
   ]
  },
  {
   "cell_type": "code",
   "execution_count": 42,
   "metadata": {},
   "outputs": [
    {
     "name": "stdout",
     "output_type": "stream",
     "text": [
      "18\n"
     ]
    }
   ],
   "source": [
    "#resolvendo com while\n",
    "#lendo os inputs\n",
    "n = int(input())\n",
    "while n < 1: #impedindo que haja termos negativos\n",
    "    n = int(input('Digite um número de termo válido'))\n",
    "termo = -1\n",
    "cont = 1\n",
    "\n",
    "if n == 0:\n",
    "    print(termo)\n",
    "else:\n",
    "    while cont != n:\n",
    "        cont += 1\n",
    "        if cont%2 == 0:\n",
    "            termo += 1\n",
    "        else:\n",
    "            termo += 5\n",
    "    \n",
    "    print(termo)"
   ]
  },
  {
   "attachments": {},
   "cell_type": "markdown",
   "metadata": {},
   "source": [
    "10- Ler um numero inteiro positivo N digitado pelo usuário e depois ler N numeros inteiros positivos (0 < x < 400) e, para cada um deles, imprimir a sua representação em algarismos romanos. OBS: Lembre que os valores dos algarismos romanos são: I=1, V=5, X=10, L=50, C=100, D=500 e M= 1000, e que IV = 4, IX = 9, XC = 90, CD = 400, CM = 900"
   ]
  },
  {
   "cell_type": "code",
   "execution_count": 15,
   "metadata": {},
   "outputs": [
    {
     "name": "stdout",
     "output_type": "stream",
     "text": [
      "0 474\n",
      "O número 474 em algarismos romanos é: CDLXXIV\n",
      "1 890\n",
      "O número 1890 em algarismos romanos é: MDCCCXC\n"
     ]
    }
   ],
   "source": [
    "#lendo os inputs\n",
    "n = int(input('Digite um número inteiro positivo: '))\n",
    "\n",
    "while n < 1:\n",
    "    n = int(input('Digite um número inteiro positivo: '))\n",
    "\n",
    "#programa\n",
    "for i in range(n):\n",
    "    num = int(input('Digite um número: '))\n",
    "    aux = num\n",
    "    rom = ''\n",
    "    #encontrando as unidades de milhares\n",
    "    M = aux // 1000\n",
    "    aux = aux - M * 1000\n",
    "    rom = rom + 'M'*M\n",
    "    #encontrando os centenas \n",
    "    C = aux // 100\n",
    "    aux = aux - C*100\n",
    "    if C <=3:\n",
    "        rom = rom + 'C'*C\n",
    "    elif C == 4:\n",
    "        rom = rom + 'CD'\n",
    "    elif C == 5:\n",
    "        rom = rom + 'D'\n",
    "    elif 5 < C < 9:\n",
    "        C = C - 5\n",
    "        rom = rom + 'D' + 'C'*C\n",
    "    else:\n",
    "        rom = rom + 'CM'\n",
    "    #encontrando as dezenas\n",
    "    X = aux // 10\n",
    "    aux = aux - X*10\n",
    "    if X <=3:\n",
    "        rom = rom + 'X'*X\n",
    "    elif X == 4:\n",
    "        rom = rom + 'XL'\n",
    "    elif X == 5:\n",
    "        rom = rom + 'L'\n",
    "    elif 5 < X < 9:\n",
    "        X = X - 5\n",
    "        rom = rom + 'L' + 'X'*X\n",
    "    else:\n",
    "        rom = rom + 'XC'\n",
    "    #encontrando as unidades\n",
    "    I = aux\n",
    "    if I <=3:\n",
    "        rom = rom + 'I'*I\n",
    "    elif I == 4:\n",
    "        rom = rom + 'IV'\n",
    "    elif I == 5:\n",
    "        rom = rom + 'V'\n",
    "    elif 5 < I < 9:\n",
    "        I = I - 5\n",
    "        rom = rom + 'V' + 'I'*I\n",
    "    else:\n",
    "        rom = rom + 'IX'\n",
    "\n",
    "    print(f'O número {num} em algarismos romanos é: {rom}')"
   ]
  },
  {
   "attachments": {},
   "cell_type": "markdown",
   "metadata": {},
   "source": [
    "11 - Calcular o menor de uma série de números inteiros lidos. A leitura dos números deve parar quando o número lido for zero"
   ]
  },
  {
   "cell_type": "code",
   "execution_count": 16,
   "metadata": {},
   "outputs": [
    {
     "name": "stdout",
     "output_type": "stream",
     "text": [
      "O menor número digitado foi: -6\n"
     ]
    }
   ],
   "source": [
    "n = int(input('Digite um número inteiro: '))\n",
    "numeros = []\n",
    "\n",
    "while n != 0:\n",
    "    numeros.append(n)\n",
    "    n = int(input('Digite um número inteiro: '))\n",
    "\n",
    "print(f'O menor número digitado foi: {min(numeros)}')"
   ]
  },
  {
   "attachments": {},
   "cell_type": "markdown",
   "metadata": {},
   "source": [
    "12 - Calcular a média aritmétrica de vários números reais fornecidos pelo usuário. A leitura dos números deve parar quando um número negativo for lido"
   ]
  },
  {
   "cell_type": "code",
   "execution_count": 42,
   "metadata": {},
   "outputs": [
    {
     "name": "stdout",
     "output_type": "stream",
     "text": [
      "Não foi digitado nenhum número válido\n"
     ]
    }
   ],
   "source": [
    "cont = 0\n",
    "soma = 0.0 #colocar 0.0 para a soma ja ser um float\n",
    "n = float(input('Digite um número real: '))\n",
    "while n >= 0:\n",
    "    cont += 1\n",
    "    soma += n\n",
    "    n = float(input('Digite um número real: '))\n",
    "\n",
    "if cont == 0:\n",
    "    print('Não foi digitado nenhum número válido') #outra opção é exigir um número válido no primeiro input.\n",
    "else:\n",
    "    media = soma/cont\n",
    "    print(f'A média dos números é: {media}')"
   ]
  },
  {
   "attachments": {},
   "cell_type": "markdown",
   "metadata": {},
   "source": [
    "13 - O máximo Dividor Comum (MDC) de 2 números inteiros positivos é o maior número inteiro que divide ambos sem deixar resto. Seu programa deve ler 2 números inteiros positivos e determinar o MDC destes 2 números. OBS: Não utilizar nenhuma formula ou estratégia matemática para calcular o MDC - coloque o programa para trabalhar pra você."
   ]
  },
  {
   "cell_type": "code",
   "execution_count": 28,
   "metadata": {},
   "outputs": [
    {
     "name": "stdout",
     "output_type": "stream",
     "text": [
      "O MDC dos números 100 e 125 é : 25\n"
     ]
    }
   ],
   "source": [
    "#lendo os 2 números inteiros\n",
    "num1 = int(input('Digite um número inteiro positivo: '))\n",
    "while num1 < 1:\n",
    "    num1 = int(input('Digite um número inteiro positivo: '))\n",
    "\n",
    "num2 = int(input('Digite um número inteiro positivo: '))\n",
    "while num2 < 1:\n",
    "    num2 = int(input('Digite um número inteiro positivo: '))\n",
    "\n",
    "if num2 < num1:\n",
    "    num1,num2 = num2, num1\n",
    "\n",
    "lista_div = []\n",
    "for i in range(1,num1):\n",
    "    if (num1 % i) == 0 and (num2 % i) == 0:\n",
    "        lista_div.append(i)\n",
    "\n",
    "print(f'O MDC dos números {num1} e {num2} é : {max(lista_div)}')"
   ]
  },
  {
   "attachments": {},
   "cell_type": "markdown",
   "metadata": {},
   "source": [
    "resolvendo a mesma questão mas usando while, pois é mais vantajoso calcular sempre do maior para o menor, ja no for é calculado do menor para o maior "
   ]
  },
  {
   "cell_type": "code",
   "execution_count": 45,
   "metadata": {},
   "outputs": [
    {
     "name": "stdout",
     "output_type": "stream",
     "text": [
      "O MDC dos números 100 e 125 é : 25\n"
     ]
    }
   ],
   "source": [
    "#lendo os 2 números inteiros\n",
    "num1 = int(input('Digite um número inteiro positivo: '))\n",
    "while num1 < 1:\n",
    "    num1 = int(input('Digite um número inteiro positivo: '))\n",
    "\n",
    "num2 = int(input('Digite um número inteiro positivo: '))\n",
    "while num2 < 1:\n",
    "    num2 = int(input('Digite um número inteiro positivo: '))\n",
    "\n",
    "if num2 < num1:\n",
    "    num1,num2 = num2, num1\n",
    "\n",
    "mdc = num1 \n",
    "while (num1 % mdc) != 0 or (num2 % mdc) != 0:\n",
    "    mdc += -1\n",
    "\n",
    "print(f'O MDC dos números {num1} e {num2} é : {mdc}')"
   ]
  },
  {
   "attachments": {},
   "cell_type": "markdown",
   "metadata": {},
   "source": [
    "14 - O mínimo multiplo comum (MMC) de 2 números inteiros positivos é o menor número inteiro que é multiplo de ambos. Seu programa deve ler 2 números inteiros positivos e determinar o MMC destes 2 números"
   ]
  },
  {
   "cell_type": "code",
   "execution_count": null,
   "metadata": {},
   "outputs": [],
   "source": []
  },
  {
   "attachments": {},
   "cell_type": "markdown",
   "metadata": {},
   "source": [
    "15 - Ler número inteiro positivo e dizer se ele é primo ou não"
   ]
  },
  {
   "cell_type": "code",
   "execution_count": 51,
   "metadata": {},
   "outputs": [
    {
     "name": "stdout",
     "output_type": "stream",
     "text": [
      "O número 31 é primo\n"
     ]
    }
   ],
   "source": [
    "n = int(input('Digite um número positivo: '))\n",
    "while n < 1:\n",
    "    n = int(input('Digite um número positivo: '))\n",
    "\n",
    "mult = 0\n",
    "for i in range(1,int(n**(0.5))):\n",
    "    if n % i == 0:\n",
    "        mult += 1\n",
    "\n",
    "if mult == 1:\n",
    "    print(f'O número {n} é primo')\n",
    "else:\n",
    "    print(f'O número {n} não é primo')"
   ]
  },
  {
   "cell_type": "code",
   "execution_count": null,
   "metadata": {},
   "outputs": [],
   "source": [
    "# uma forma mais otimizada de resolver pois para no primeiro dividor\n",
    "#calcula os divisores até a raiz do número\n",
    "import math\n",
    "num = int(input())\n",
    "raiz = int(math.sqrt(num))\n",
    "d = 2 \n",
    "\n",
    "while d <= raiz and num % d != 0:\n",
    "    d = d + 1\n",
    "\n",
    "if d > raiz:\n",
    "    print(num,'é primo')\n",
    "else:\n",
    "    print(num, 'não é primo', d , 'é um divisor')"
   ]
  },
  {
   "attachments": {},
   "cell_type": "markdown",
   "metadata": {},
   "source": [
    "16 - Ler um número inteiro positivo e dizer se ele é perfeito ou não. OBS: um número é perfeito se ele é igual à soma de todos os seus divisores(exceto ele mesmo)"
   ]
  },
  {
   "cell_type": "code",
   "execution_count": 35,
   "metadata": {},
   "outputs": [
    {
     "name": "stdout",
     "output_type": "stream",
     "text": [
      "6 é Perfeito\n"
     ]
    }
   ],
   "source": [
    "n = int(input('Digite um número positivo: '))\n",
    "while n < 1:\n",
    "    n = int(input('Digite um número positivo: '))\n",
    "\n",
    "soma = 0\n",
    "for i in range(1,n):\n",
    "    if n % i == 0:\n",
    "        soma += i\n",
    "\n",
    "if soma == n: \n",
    "    print(f'{n} é Perfeito')\n",
    "\n",
    "else:\n",
    "    print(f'{n} não é perfeito')"
   ]
  },
  {
   "cell_type": "code",
   "execution_count": null,
   "metadata": {},
   "outputs": [],
   "source": []
  }
 ],
 "metadata": {
  "kernelspec": {
   "display_name": "Python 3",
   "language": "python",
   "name": "python3"
  },
  "language_info": {
   "codemirror_mode": {
    "name": "ipython",
    "version": 3
   },
   "file_extension": ".py",
   "mimetype": "text/x-python",
   "name": "python",
   "nbconvert_exporter": "python",
   "pygments_lexer": "ipython3",
   "version": "3.11.1"
  },
  "orig_nbformat": 4,
  "vscode": {
   "interpreter": {
    "hash": "eba10f099525e90365edbf4a7f32994c9b811cbe83fa4a775622dd6e5947500a"
   }
  }
 },
 "nbformat": 4,
 "nbformat_minor": 2
}
